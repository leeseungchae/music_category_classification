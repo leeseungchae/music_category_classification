{
 "cells": [
  {
   "cell_type": "code",
   "execution_count": 1,
   "metadata": {
    "collapsed": true
   },
   "outputs": [],
   "source": [
    "import pandas as pd\n",
    "import numpy as np\n",
    "from sklearn.model_selection import train_test_split  #scikit-learn\n",
    "from tensorflow.keras.preprocessing.text import Tokenizer\n",
    "from tensorflow.keras.preprocessing.sequence import pad_sequences\n",
    "from sklearn.preprocessing import LabelEncoder\n",
    "from tensorflow.keras.utils import to_categorical\n",
    "import pickle\n",
    "from tensorflow.keras.models import load_model\n",
    "from konlpy.tag import Kkma, Okt"
   ]
  },
  {
   "cell_type": "code",
   "execution_count": 3,
   "outputs": [
    {
     "name": "stdout",
     "output_type": "stream",
     "text": [
      "                      title              artist genre  \\\n",
      "0         horizon                      박현광    댄스   \n",
      "1    Starry Night             NATURE  네이처     댄스   \n",
      "2         우리                   수인  Swuin     댄스   \n",
      "3     겨울 헌팅송                 my  삼마이     댄스   \n",
      "4        BIG LiPS                      양준일    댄스   \n",
      "\n",
      "                                                                                 lyric  \\\n",
      "0  날고 싶던 그날에 날 수 없단 걸 알았어 구름을 가르며 나는 새를 부러워만 했었어 ...     \n",
      "1  Oh starry night 우릴 위한 이 밤 별빛은 너를 더 빛나게 해 Oh st...                     \n",
      "2  Long time no see 다들 잘 지내 반가워 사실은 우리 그렇게 친한 사이는...                \n",
      "3  드디어 찾아온 겨울 우리들의 스키장 저기좀 봐 그녀를 봐 여름 바닷가에서 봤어나 나...   \n",
      "4  What 봐라 왔냐 니 bye 완전 반응이 big 와 봐라 반응이 bye Gathe...                     \n",
      "\n",
      "                                                            All_Columns  \n",
      "0    horizon          : 박현광  :날고 싶던 그날에 날 수 없단 걸 ...      \n",
      "1    Starry Night          : NATURE  네이처   :Oh st...                  \n",
      "2    우리             : 수인  Swuin   :Long time no s...                 \n",
      "3    겨울 헌팅송          :  my  삼마이   :드디어 찾아온 겨울 우리들...  \n",
      "4    BIG LiPS          : 양준일  :What 봐라 왔냐 니 bye 완...            \n",
      "<class 'pandas.core.frame.DataFrame'>\n",
      "RangeIndex: 6339 entries, 0 to 6338\n",
      "Data columns (total 5 columns):\n",
      " #   Column       Non-Null Count  Dtype \n",
      "---  ------       --------------  ----- \n",
      " 0   title        6339 non-null   object\n",
      " 1   artist       6339 non-null   object\n",
      " 2   genre        6339 non-null   object\n",
      " 3   lyric        6339 non-null   object\n",
      " 4   All_Columns  6339 non-null   object\n",
      "dtypes: object(5)\n",
      "memory usage: 247.7+ KB\n"
     ]
    }
   ],
   "source": [
    "pd.set_option('display.unicode.east_asian_width', True)\n",
    "pd.set_option('display.max_columns', 20)\n",
    "df = pd.read_csv('output/music_data_coulmns.csv')\n",
    "print(df.head())\n",
    "df.info()"
   ],
   "metadata": {
    "collapsed": false,
    "pycharm": {
     "name": "#%%\n"
    }
   }
  },
  {
   "cell_type": "code",
   "execution_count": 19,
   "outputs": [],
   "source": [
    "X = df.All_Columns\n",
    "Y = df.genre\n"
   ],
   "metadata": {
    "collapsed": false,
    "pycharm": {
     "name": "#%%\n"
    }
   }
  },
  {
   "cell_type": "code",
   "execution_count": 22,
   "outputs": [
    {
     "data": {
      "text/plain": "0       [horizon, :, 박현, 광, :, 날, 고, 싶다, 그날, 에, 날, 수, ...\n1       [Starry, Night, :, NATURE, 네이처, :, Oh, starry,...     \n2       [우리, :, 수인, Swuin, :, Long, time, no, see, 다, ...   \n3       [겨울, 헌팅, 송, :, my, 삼, 마이, :, 드디어, 찾아오다, 겨울, 우리...\n4       [BIG, LiPS, :, 양준, 일, :, What, 보다, 오다, 니, bye,...\n                                  ...                            \n6334      바람아 말해 줄래          : 굿맨  Goodman   :흘러 가는 저 ...\n6335      대낮에 한 이별          : 선예  span    span 임슬옹  :마...\n6336      내 생각을 들려주지 않을 거예요  with 이예린           : 겸  G...\n6337      중독          : 남궁진영  :밤이 되면 올까 자꾸 널 찾아 아마 너에게...\n6338      다시 오지 않을 그 밤          : 안솔희 블루베리   :오늘밤도 내 곁...\nName: All_Columns, Length: 6339, dtype: object"
     },
     "execution_count": 22,
     "metadata": {},
     "output_type": "execute_result"
    }
   ],
   "source": [
    "X"
   ],
   "metadata": {
    "collapsed": false,
    "pycharm": {
     "name": "#%%\n"
    }
   }
  },
  {
   "cell_type": "markdown",
   "source": [],
   "metadata": {
    "collapsed": false
   }
  },
  {
   "cell_type": "markdown",
   "source": [],
   "metadata": {
    "collapsed": false
   }
  },
  {
   "cell_type": "code",
   "execution_count": 5,
   "outputs": [
    {
     "name": "stdout",
     "output_type": "stream",
     "text": [
      "[1 1 1 ... 4 4 4]\n",
      "['R amp B Soul' '댄스' '랩 힙합' '록 메탈' '발라드' '발라드  록 메탈' '성인가요 트로트' '포크 블루스']\n",
      "[1 1 1 1 1]\n",
      "LabelEncoder()\n"
     ]
    }
   ],
   "source": [
    "with open('./output/encoder.pickle', 'rb') as f:\n",
    "    encoder = pickle.load(f)\n",
    "labeled_Y = encoder.transform(Y)\n",
    "print(labeled_Y)\n",
    "print(encoder.classes_)\n",
    "print(labeled_Y[:5])\n",
    "print(encoder)\n"
   ],
   "metadata": {
    "collapsed": false,
    "pycharm": {
     "name": "#%%\n"
    }
   }
  },
  {
   "cell_type": "code",
   "execution_count": 6,
   "outputs": [
    {
     "ename": "ValueError",
     "evalue": "y contains previously unseen labels: '  horizon          : 박현광  :날고 싶던 그날에 날 수 없단 걸 알았어 구름을 가르며 나는 새를 부러워만 했었어 태양 아래는 더 뜨겁다며 겁을 또 먹었어 저 작은 날개로 빠르게 나는 걸 바라만 보던 나인걸 있잖아 모든 건 내가 만드는 것 눈 감고 뛰어봐 구름 위로 날아 저 끝까지 날아 바람을 가르는 내 모습 느껴봐 두렵지 않은걸 수평선 가까이 다가간 것 같아 내가 날고 싶었던 그날에 날 수 있었어 내 맘은 그저 평범한 날 그런 날에 평범하긴 싫었어 날 비웃던 그런 시선들도 웃어넘겼어 다 이 작은 날개로 빠르게 나는 걸 보여주고 싶었던 날 있잖아 모든 건 내가 만드는 것 눈 뜨고 나를 봐 구름 위로 날아 저 끝까지 날아 바람을 가르는 내 모습 느껴봐 두렵지 않은걸 수평선 가까이 다가간 것 같아 내가 어렸을 적 작은 내 꿈을 아직까지 숨겨왔어 별거 아닌 줄 알았어 지금도 그땐 작다고만 생각했던 내 안에 이 맘 내가 커가듯 이 꿈도 점점 더 커져가 바람을 가르는 내 모습 느껴봐 두렵지 않은걸 수평선 가까이 다가간 것 같아 내가 하늘에서 보는 바다를 넌 알까 이렇게 멋진걸 내가 본 바다는 하늘과 같단 걸 알까 \\n'",
     "output_type": "error",
     "traceback": [
      "\u001B[1;31m---------------------------------------------------------------------------\u001B[0m",
      "\u001B[1;31mKeyError\u001B[0m                                  Traceback (most recent call last)",
      "\u001B[1;32mC:\\Anaconda\\envs\\music_category_classification\\lib\\site-packages\\sklearn\\utils\\_encode.py\u001B[0m in \u001B[0;36m_encode\u001B[1;34m(values, uniques, check_unknown)\u001B[0m\n\u001B[0;32m    181\u001B[0m         \u001B[1;32mtry\u001B[0m\u001B[1;33m:\u001B[0m\u001B[1;33m\u001B[0m\u001B[1;33m\u001B[0m\u001B[0m\n\u001B[1;32m--> 182\u001B[1;33m             \u001B[1;32mreturn\u001B[0m \u001B[0m_map_to_integer\u001B[0m\u001B[1;33m(\u001B[0m\u001B[0mvalues\u001B[0m\u001B[1;33m,\u001B[0m \u001B[0muniques\u001B[0m\u001B[1;33m)\u001B[0m\u001B[1;33m\u001B[0m\u001B[1;33m\u001B[0m\u001B[0m\n\u001B[0m\u001B[0;32m    183\u001B[0m         \u001B[1;32mexcept\u001B[0m \u001B[0mKeyError\u001B[0m \u001B[1;32mas\u001B[0m \u001B[0me\u001B[0m\u001B[1;33m:\u001B[0m\u001B[1;33m\u001B[0m\u001B[1;33m\u001B[0m\u001B[0m\n",
      "\u001B[1;32mC:\\Anaconda\\envs\\music_category_classification\\lib\\site-packages\\sklearn\\utils\\_encode.py\u001B[0m in \u001B[0;36m_map_to_integer\u001B[1;34m(values, uniques)\u001B[0m\n\u001B[0;32m    125\u001B[0m     \u001B[0mtable\u001B[0m \u001B[1;33m=\u001B[0m \u001B[0m_nandict\u001B[0m\u001B[1;33m(\u001B[0m\u001B[1;33m{\u001B[0m\u001B[0mval\u001B[0m\u001B[1;33m:\u001B[0m \u001B[0mi\u001B[0m \u001B[1;32mfor\u001B[0m \u001B[0mi\u001B[0m\u001B[1;33m,\u001B[0m \u001B[0mval\u001B[0m \u001B[1;32min\u001B[0m \u001B[0menumerate\u001B[0m\u001B[1;33m(\u001B[0m\u001B[0muniques\u001B[0m\u001B[1;33m)\u001B[0m\u001B[1;33m}\u001B[0m\u001B[1;33m)\u001B[0m\u001B[1;33m\u001B[0m\u001B[1;33m\u001B[0m\u001B[0m\n\u001B[1;32m--> 126\u001B[1;33m     \u001B[1;32mreturn\u001B[0m \u001B[0mnp\u001B[0m\u001B[1;33m.\u001B[0m\u001B[0marray\u001B[0m\u001B[1;33m(\u001B[0m\u001B[1;33m[\u001B[0m\u001B[0mtable\u001B[0m\u001B[1;33m[\u001B[0m\u001B[0mv\u001B[0m\u001B[1;33m]\u001B[0m \u001B[1;32mfor\u001B[0m \u001B[0mv\u001B[0m \u001B[1;32min\u001B[0m \u001B[0mvalues\u001B[0m\u001B[1;33m]\u001B[0m\u001B[1;33m)\u001B[0m\u001B[1;33m\u001B[0m\u001B[1;33m\u001B[0m\u001B[0m\n\u001B[0m\u001B[0;32m    127\u001B[0m \u001B[1;33m\u001B[0m\u001B[0m\n",
      "\u001B[1;32mC:\\Anaconda\\envs\\music_category_classification\\lib\\site-packages\\sklearn\\utils\\_encode.py\u001B[0m in \u001B[0;36m<listcomp>\u001B[1;34m(.0)\u001B[0m\n\u001B[0;32m    125\u001B[0m     \u001B[0mtable\u001B[0m \u001B[1;33m=\u001B[0m \u001B[0m_nandict\u001B[0m\u001B[1;33m(\u001B[0m\u001B[1;33m{\u001B[0m\u001B[0mval\u001B[0m\u001B[1;33m:\u001B[0m \u001B[0mi\u001B[0m \u001B[1;32mfor\u001B[0m \u001B[0mi\u001B[0m\u001B[1;33m,\u001B[0m \u001B[0mval\u001B[0m \u001B[1;32min\u001B[0m \u001B[0menumerate\u001B[0m\u001B[1;33m(\u001B[0m\u001B[0muniques\u001B[0m\u001B[1;33m)\u001B[0m\u001B[1;33m}\u001B[0m\u001B[1;33m)\u001B[0m\u001B[1;33m\u001B[0m\u001B[1;33m\u001B[0m\u001B[0m\n\u001B[1;32m--> 126\u001B[1;33m     \u001B[1;32mreturn\u001B[0m \u001B[0mnp\u001B[0m\u001B[1;33m.\u001B[0m\u001B[0marray\u001B[0m\u001B[1;33m(\u001B[0m\u001B[1;33m[\u001B[0m\u001B[0mtable\u001B[0m\u001B[1;33m[\u001B[0m\u001B[0mv\u001B[0m\u001B[1;33m]\u001B[0m \u001B[1;32mfor\u001B[0m \u001B[0mv\u001B[0m \u001B[1;32min\u001B[0m \u001B[0mvalues\u001B[0m\u001B[1;33m]\u001B[0m\u001B[1;33m)\u001B[0m\u001B[1;33m\u001B[0m\u001B[1;33m\u001B[0m\u001B[0m\n\u001B[0m\u001B[0;32m    127\u001B[0m \u001B[1;33m\u001B[0m\u001B[0m\n",
      "\u001B[1;32mC:\\Anaconda\\envs\\music_category_classification\\lib\\site-packages\\sklearn\\utils\\_encode.py\u001B[0m in \u001B[0;36m__missing__\u001B[1;34m(self, key)\u001B[0m\n\u001B[0;32m    119\u001B[0m             \u001B[1;32mreturn\u001B[0m \u001B[0mself\u001B[0m\u001B[1;33m.\u001B[0m\u001B[0mnan_value\u001B[0m\u001B[1;33m\u001B[0m\u001B[1;33m\u001B[0m\u001B[0m\n\u001B[1;32m--> 120\u001B[1;33m         \u001B[1;32mraise\u001B[0m \u001B[0mKeyError\u001B[0m\u001B[1;33m(\u001B[0m\u001B[0mkey\u001B[0m\u001B[1;33m)\u001B[0m\u001B[1;33m\u001B[0m\u001B[1;33m\u001B[0m\u001B[0m\n\u001B[0m\u001B[0;32m    121\u001B[0m \u001B[1;33m\u001B[0m\u001B[0m\n",
      "\u001B[1;31mKeyError\u001B[0m: '  horizon          : 박현광  :날고 싶던 그날에 날 수 없단 걸 알았어 구름을 가르며 나는 새를 부러워만 했었어 태양 아래는 더 뜨겁다며 겁을 또 먹었어 저 작은 날개로 빠르게 나는 걸 바라만 보던 나인걸 있잖아 모든 건 내가 만드는 것 눈 감고 뛰어봐 구름 위로 날아 저 끝까지 날아 바람을 가르는 내 모습 느껴봐 두렵지 않은걸 수평선 가까이 다가간 것 같아 내가 날고 싶었던 그날에 날 수 있었어 내 맘은 그저 평범한 날 그런 날에 평범하긴 싫었어 날 비웃던 그런 시선들도 웃어넘겼어 다 이 작은 날개로 빠르게 나는 걸 보여주고 싶었던 날 있잖아 모든 건 내가 만드는 것 눈 뜨고 나를 봐 구름 위로 날아 저 끝까지 날아 바람을 가르는 내 모습 느껴봐 두렵지 않은걸 수평선 가까이 다가간 것 같아 내가 어렸을 적 작은 내 꿈을 아직까지 숨겨왔어 별거 아닌 줄 알았어 지금도 그땐 작다고만 생각했던 내 안에 이 맘 내가 커가듯 이 꿈도 점점 더 커져가 바람을 가르는 내 모습 느껴봐 두렵지 않은걸 수평선 가까이 다가간 것 같아 내가 하늘에서 보는 바다를 넌 알까 이렇게 멋진걸 내가 본 바다는 하늘과 같단 걸 알까 \\n'",
      "\nDuring handling of the above exception, another exception occurred:\n",
      "\u001B[1;31mValueError\u001B[0m                                Traceback (most recent call last)",
      "\u001B[1;32m~\\AppData\\Local\\Temp\\ipykernel_15608\\3674503746.py\u001B[0m in \u001B[0;36m<module>\u001B[1;34m\u001B[0m\n\u001B[1;32m----> 1\u001B[1;33m \u001B[0mlabeled_Y\u001B[0m \u001B[1;33m=\u001B[0m \u001B[0mencoder\u001B[0m\u001B[1;33m.\u001B[0m\u001B[0mtransform\u001B[0m\u001B[1;33m(\u001B[0m\u001B[0mX\u001B[0m\u001B[1;33m)\u001B[0m\u001B[1;33m\u001B[0m\u001B[1;33m\u001B[0m\u001B[0m\n\u001B[0m\u001B[0;32m      2\u001B[0m \u001B[0mprint\u001B[0m\u001B[1;33m(\u001B[0m\u001B[0mencoder\u001B[0m\u001B[1;33m.\u001B[0m\u001B[0mclasses_\u001B[0m\u001B[1;33m)\u001B[0m\u001B[1;33m\u001B[0m\u001B[1;33m\u001B[0m\u001B[0m\n\u001B[0;32m      3\u001B[0m \u001B[0mprint\u001B[0m\u001B[1;33m(\u001B[0m\u001B[0mlabeled_Y\u001B[0m\u001B[1;33m[\u001B[0m\u001B[1;33m:\u001B[0m\u001B[1;36m5\u001B[0m\u001B[1;33m]\u001B[0m\u001B[1;33m)\u001B[0m\u001B[1;33m\u001B[0m\u001B[1;33m\u001B[0m\u001B[0m\n",
      "\u001B[1;32mC:\\Anaconda\\envs\\music_category_classification\\lib\\site-packages\\sklearn\\preprocessing\\_label.py\u001B[0m in \u001B[0;36mtransform\u001B[1;34m(self, y)\u001B[0m\n\u001B[0;32m    136\u001B[0m             \u001B[1;32mreturn\u001B[0m \u001B[0mnp\u001B[0m\u001B[1;33m.\u001B[0m\u001B[0marray\u001B[0m\u001B[1;33m(\u001B[0m\u001B[1;33m[\u001B[0m\u001B[1;33m]\u001B[0m\u001B[1;33m)\u001B[0m\u001B[1;33m\u001B[0m\u001B[1;33m\u001B[0m\u001B[0m\n\u001B[0;32m    137\u001B[0m \u001B[1;33m\u001B[0m\u001B[0m\n\u001B[1;32m--> 138\u001B[1;33m         \u001B[1;32mreturn\u001B[0m \u001B[0m_encode\u001B[0m\u001B[1;33m(\u001B[0m\u001B[0my\u001B[0m\u001B[1;33m,\u001B[0m \u001B[0muniques\u001B[0m\u001B[1;33m=\u001B[0m\u001B[0mself\u001B[0m\u001B[1;33m.\u001B[0m\u001B[0mclasses_\u001B[0m\u001B[1;33m)\u001B[0m\u001B[1;33m\u001B[0m\u001B[1;33m\u001B[0m\u001B[0m\n\u001B[0m\u001B[0;32m    139\u001B[0m \u001B[1;33m\u001B[0m\u001B[0m\n\u001B[0;32m    140\u001B[0m     \u001B[1;32mdef\u001B[0m \u001B[0minverse_transform\u001B[0m\u001B[1;33m(\u001B[0m\u001B[0mself\u001B[0m\u001B[1;33m,\u001B[0m \u001B[0my\u001B[0m\u001B[1;33m)\u001B[0m\u001B[1;33m:\u001B[0m\u001B[1;33m\u001B[0m\u001B[1;33m\u001B[0m\u001B[0m\n",
      "\u001B[1;32mC:\\Anaconda\\envs\\music_category_classification\\lib\\site-packages\\sklearn\\utils\\_encode.py\u001B[0m in \u001B[0;36m_encode\u001B[1;34m(values, uniques, check_unknown)\u001B[0m\n\u001B[0;32m    182\u001B[0m             \u001B[1;32mreturn\u001B[0m \u001B[0m_map_to_integer\u001B[0m\u001B[1;33m(\u001B[0m\u001B[0mvalues\u001B[0m\u001B[1;33m,\u001B[0m \u001B[0muniques\u001B[0m\u001B[1;33m)\u001B[0m\u001B[1;33m\u001B[0m\u001B[1;33m\u001B[0m\u001B[0m\n\u001B[0;32m    183\u001B[0m         \u001B[1;32mexcept\u001B[0m \u001B[0mKeyError\u001B[0m \u001B[1;32mas\u001B[0m \u001B[0me\u001B[0m\u001B[1;33m:\u001B[0m\u001B[1;33m\u001B[0m\u001B[1;33m\u001B[0m\u001B[0m\n\u001B[1;32m--> 184\u001B[1;33m             \u001B[1;32mraise\u001B[0m \u001B[0mValueError\u001B[0m\u001B[1;33m(\u001B[0m\u001B[1;34mf\"y contains previously unseen labels: {str(e)}\"\u001B[0m\u001B[1;33m)\u001B[0m\u001B[1;33m\u001B[0m\u001B[1;33m\u001B[0m\u001B[0m\n\u001B[0m\u001B[0;32m    185\u001B[0m     \u001B[1;32melse\u001B[0m\u001B[1;33m:\u001B[0m\u001B[1;33m\u001B[0m\u001B[1;33m\u001B[0m\u001B[0m\n\u001B[0;32m    186\u001B[0m         \u001B[1;32mif\u001B[0m \u001B[0mcheck_unknown\u001B[0m\u001B[1;33m:\u001B[0m\u001B[1;33m\u001B[0m\u001B[1;33m\u001B[0m\u001B[0m\n",
      "\u001B[1;31mValueError\u001B[0m: y contains previously unseen labels: '  horizon          : 박현광  :날고 싶던 그날에 날 수 없단 걸 알았어 구름을 가르며 나는 새를 부러워만 했었어 태양 아래는 더 뜨겁다며 겁을 또 먹었어 저 작은 날개로 빠르게 나는 걸 바라만 보던 나인걸 있잖아 모든 건 내가 만드는 것 눈 감고 뛰어봐 구름 위로 날아 저 끝까지 날아 바람을 가르는 내 모습 느껴봐 두렵지 않은걸 수평선 가까이 다가간 것 같아 내가 날고 싶었던 그날에 날 수 있었어 내 맘은 그저 평범한 날 그런 날에 평범하긴 싫었어 날 비웃던 그런 시선들도 웃어넘겼어 다 이 작은 날개로 빠르게 나는 걸 보여주고 싶었던 날 있잖아 모든 건 내가 만드는 것 눈 뜨고 나를 봐 구름 위로 날아 저 끝까지 날아 바람을 가르는 내 모습 느껴봐 두렵지 않은걸 수평선 가까이 다가간 것 같아 내가 어렸을 적 작은 내 꿈을 아직까지 숨겨왔어 별거 아닌 줄 알았어 지금도 그땐 작다고만 생각했던 내 안에 이 맘 내가 커가듯 이 꿈도 점점 더 커져가 바람을 가르는 내 모습 느껴봐 두렵지 않은걸 수평선 가까이 다가간 것 같아 내가 하늘에서 보는 바다를 넌 알까 이렇게 멋진걸 내가 본 바다는 하늘과 같단 걸 알까 \\n'"
     ]
    }
   ],
   "source": [
    "labeled_Y = encoder.transform(X)\n",
    "print(encoder.classes_)\n",
    "print(labeled_Y[:5])"
   ],
   "metadata": {
    "collapsed": false,
    "pycharm": {
     "name": "#%%\n"
    }
   }
  },
  {
   "cell_type": "code",
   "execution_count": 7,
   "outputs": [
    {
     "name": "stdout",
     "output_type": "stream",
     "text": [
      "[[0. 1. 0. ... 0. 0. 0.]\n",
      " [0. 1. 0. ... 0. 0. 0.]\n",
      " [0. 1. 0. ... 0. 0. 0.]\n",
      " ...\n",
      " [0. 0. 0. ... 0. 0. 0.]\n",
      " [0. 0. 0. ... 0. 0. 0.]\n",
      " [0. 0. 0. ... 0. 0. 0.]]\n"
     ]
    }
   ],
   "source": [
    "onehot_Y = to_categorical(labeled_Y)\n",
    "print(onehot_Y)"
   ],
   "metadata": {
    "collapsed": false,
    "pycharm": {
     "name": "#%%\n"
    }
   }
  },
  {
   "cell_type": "code",
   "execution_count": 23,
   "outputs": [
    {
     "ename": "AssertionError",
     "evalue": "phrase input should be string, not <class 'list'>",
     "output_type": "error",
     "traceback": [
      "\u001B[1;31m---------------------------------------------------------------------------\u001B[0m",
      "\u001B[1;31mAssertionError\u001B[0m                            Traceback (most recent call last)",
      "\u001B[1;32m~\\AppData\\Local\\Temp\\ipykernel_15608\\1359096582.py\u001B[0m in \u001B[0;36m<module>\u001B[1;34m\u001B[0m\n\u001B[0;32m      1\u001B[0m \u001B[0mokt\u001B[0m \u001B[1;33m=\u001B[0m \u001B[0mOkt\u001B[0m\u001B[1;33m(\u001B[0m\u001B[1;33m)\u001B[0m\u001B[1;33m\u001B[0m\u001B[1;33m\u001B[0m\u001B[0m\n\u001B[0;32m      2\u001B[0m \u001B[1;32mfor\u001B[0m \u001B[0mi\u001B[0m \u001B[1;32min\u001B[0m \u001B[0mrange\u001B[0m\u001B[1;33m(\u001B[0m\u001B[0mlen\u001B[0m\u001B[1;33m(\u001B[0m\u001B[0mX\u001B[0m\u001B[1;33m)\u001B[0m\u001B[1;33m)\u001B[0m\u001B[1;33m:\u001B[0m\u001B[1;33m\u001B[0m\u001B[1;33m\u001B[0m\u001B[0m\n\u001B[1;32m----> 3\u001B[1;33m     \u001B[0mX\u001B[0m\u001B[1;33m[\u001B[0m\u001B[0mi\u001B[0m\u001B[1;33m]\u001B[0m \u001B[1;33m=\u001B[0m \u001B[0mokt\u001B[0m\u001B[1;33m.\u001B[0m\u001B[0mmorphs\u001B[0m\u001B[1;33m(\u001B[0m\u001B[0mX\u001B[0m\u001B[1;33m[\u001B[0m\u001B[0mi\u001B[0m\u001B[1;33m]\u001B[0m\u001B[1;33m,\u001B[0m \u001B[0mstem\u001B[0m\u001B[1;33m=\u001B[0m\u001B[1;32mTrue\u001B[0m\u001B[1;33m)\u001B[0m\u001B[1;33m\u001B[0m\u001B[1;33m\u001B[0m\u001B[0m\n\u001B[0m\u001B[0;32m      4\u001B[0m \u001B[0mstopwords\u001B[0m \u001B[1;33m=\u001B[0m \u001B[0mpd\u001B[0m\u001B[1;33m.\u001B[0m\u001B[0mread_csv\u001B[0m\u001B[1;33m(\u001B[0m\u001B[1;34m'./data2/stopwords.csv'\u001B[0m\u001B[1;33m,\u001B[0m\u001B[0mindex_col\u001B[0m\u001B[1;33m=\u001B[0m\u001B[1;36m0\u001B[0m\u001B[1;33m)\u001B[0m\u001B[1;33m\u001B[0m\u001B[1;33m\u001B[0m\u001B[0m\n\u001B[0;32m      5\u001B[0m \u001B[0mstopwords\u001B[0m\u001B[1;33m\u001B[0m\u001B[1;33m\u001B[0m\u001B[0m\n",
      "\u001B[1;32mC:\\Anaconda\\envs\\music_category_classification\\lib\\site-packages\\konlpy\\tag\\_okt.py\u001B[0m in \u001B[0;36mmorphs\u001B[1;34m(self, phrase, norm, stem)\u001B[0m\n\u001B[0;32m     87\u001B[0m         \u001B[1;34m\"\"\"Parse phrase to morphemes.\"\"\"\u001B[0m\u001B[1;33m\u001B[0m\u001B[1;33m\u001B[0m\u001B[0m\n\u001B[0;32m     88\u001B[0m \u001B[1;33m\u001B[0m\u001B[0m\n\u001B[1;32m---> 89\u001B[1;33m         \u001B[1;32mreturn\u001B[0m \u001B[1;33m[\u001B[0m\u001B[0ms\u001B[0m \u001B[1;32mfor\u001B[0m \u001B[0ms\u001B[0m\u001B[1;33m,\u001B[0m \u001B[0mt\u001B[0m \u001B[1;32min\u001B[0m \u001B[0mself\u001B[0m\u001B[1;33m.\u001B[0m\u001B[0mpos\u001B[0m\u001B[1;33m(\u001B[0m\u001B[0mphrase\u001B[0m\u001B[1;33m,\u001B[0m \u001B[0mnorm\u001B[0m\u001B[1;33m=\u001B[0m\u001B[0mnorm\u001B[0m\u001B[1;33m,\u001B[0m \u001B[0mstem\u001B[0m\u001B[1;33m=\u001B[0m\u001B[0mstem\u001B[0m\u001B[1;33m)\u001B[0m\u001B[1;33m]\u001B[0m\u001B[1;33m\u001B[0m\u001B[1;33m\u001B[0m\u001B[0m\n\u001B[0m\u001B[0;32m     90\u001B[0m \u001B[1;33m\u001B[0m\u001B[0m\n\u001B[0;32m     91\u001B[0m     \u001B[1;32mdef\u001B[0m \u001B[0mphrases\u001B[0m\u001B[1;33m(\u001B[0m\u001B[0mself\u001B[0m\u001B[1;33m,\u001B[0m \u001B[0mphrase\u001B[0m\u001B[1;33m)\u001B[0m\u001B[1;33m:\u001B[0m\u001B[1;33m\u001B[0m\u001B[1;33m\u001B[0m\u001B[0m\n",
      "\u001B[1;32mC:\\Anaconda\\envs\\music_category_classification\\lib\\site-packages\\konlpy\\tag\\_okt.py\u001B[0m in \u001B[0;36mpos\u001B[1;34m(self, phrase, norm, stem, join)\u001B[0m\n\u001B[0;32m     67\u001B[0m         \u001B[1;33m:\u001B[0m\u001B[0mparam\u001B[0m \u001B[0mjoin\u001B[0m\u001B[1;33m:\u001B[0m \u001B[0mIf\u001B[0m \u001B[1;32mTrue\u001B[0m\u001B[1;33m,\u001B[0m \u001B[0mreturns\u001B[0m \u001B[0mjoined\u001B[0m \u001B[0msets\u001B[0m \u001B[0mof\u001B[0m \u001B[0mmorph\u001B[0m \u001B[1;32mand\u001B[0m \u001B[0mtag\u001B[0m\u001B[1;33m.\u001B[0m\u001B[1;33m\u001B[0m\u001B[1;33m\u001B[0m\u001B[0m\n\u001B[0;32m     68\u001B[0m         \"\"\"\n\u001B[1;32m---> 69\u001B[1;33m         \u001B[0mvalidate_phrase_inputs\u001B[0m\u001B[1;33m(\u001B[0m\u001B[0mphrase\u001B[0m\u001B[1;33m)\u001B[0m\u001B[1;33m\u001B[0m\u001B[1;33m\u001B[0m\u001B[0m\n\u001B[0m\u001B[0;32m     70\u001B[0m \u001B[1;33m\u001B[0m\u001B[0m\n\u001B[0;32m     71\u001B[0m         tokens = self.jki.tokenize(\n",
      "\u001B[1;32mC:\\Anaconda\\envs\\music_category_classification\\lib\\site-packages\\konlpy\\tag\\_common.py\u001B[0m in \u001B[0;36mvalidate_phrase_inputs\u001B[1;34m(phrase)\u001B[0m\n\u001B[0;32m     18\u001B[0m     \"\"\"\n\u001B[0;32m     19\u001B[0m     \u001B[0mmsg\u001B[0m \u001B[1;33m=\u001B[0m \u001B[1;34m\"phrase input should be string, not %s\"\u001B[0m \u001B[1;33m%\u001B[0m \u001B[0mtype\u001B[0m\u001B[1;33m(\u001B[0m\u001B[0mphrase\u001B[0m\u001B[1;33m)\u001B[0m\u001B[1;33m\u001B[0m\u001B[1;33m\u001B[0m\u001B[0m\n\u001B[1;32m---> 20\u001B[1;33m     \u001B[1;32massert\u001B[0m \u001B[0misinstance\u001B[0m\u001B[1;33m(\u001B[0m\u001B[0mphrase\u001B[0m\u001B[1;33m,\u001B[0m \u001B[0mbasestring\u001B[0m\u001B[1;33m)\u001B[0m\u001B[1;33m,\u001B[0m \u001B[0mmsg\u001B[0m\u001B[1;33m\u001B[0m\u001B[1;33m\u001B[0m\u001B[0m\n\u001B[0m",
      "\u001B[1;31mAssertionError\u001B[0m: phrase input should be string, not <class 'list'>"
     ]
    }
   ],
   "source": [
    "okt = Okt()\n",
    "for i in range(len(X)):\n",
    "    X[i] = okt.morphs(X[i], stem=True)\n",
    "\n",
    "stopwords = pd.read_csv('./data2/stopwords.csv',index_col=0)\n",
    "stopwords\n",
    "\n",
    "for j in range(len(X)):\n",
    "    words = []\n",
    "    for i in range(len(X[j])):\n",
    "        if len(X[j][i]) > 1:\n",
    "            if X[j][i] not in list(stopwords['stopword']):\n",
    "                words.append(X[j][i])\n",
    "    X[j] = ' '.join(words)\n",
    "print(X[1])"
   ],
   "metadata": {
    "collapsed": false,
    "pycharm": {
     "name": "#%%\n"
    }
   }
  },
  {
   "cell_type": "code",
   "execution_count": null,
   "outputs": [],
   "source": [
    "with open('./output/music_melon_token (1).pickle', 'rb') as f:\n",
    "    token = pickle.load(f)\n",
    "tokened_X = token.texts_to_sequences(X)"
   ],
   "metadata": {
    "collapsed": false,
    "pycharm": {
     "name": "#%%\n"
    }
   }
  },
  {
   "cell_type": "code",
   "execution_count": null,
   "outputs": [],
   "source": [
    "for i in range(len(tokened_X)):\n",
    "    if len(tokened_X[i]) > 1030:\n",
    "        tokened_X[i] = tokened_X[i][:1030]\n",
    "X_pad = pad_sequences(tokened_X, 1030)\n",
    "label = encoder.classes_\n",
    "model = load_model('./output/music_classfication_model_0.43542855978012085.h5')\n",
    "preds = model.predict(X_pad)\n",
    "predicts = []\n",
    "for pred in preds:\n",
    "    predicts.append(label[np.argmax(pred)])"
   ],
   "metadata": {
    "collapsed": false,
    "pycharm": {
     "name": "#%%\n"
    }
   }
  },
  {
   "cell_type": "code",
   "execution_count": null,
   "outputs": [],
   "source": [
    "df['predict'] = predicts\n",
    "df['OX'] = 0\n",
    "for i in range(len(df)):\n",
    "    if df.loc[i, 'genre'] == df.loc[i, 'predict']:\n",
    "        df.loc[i, 'OX'] = 'O'\n",
    "    else:\n",
    "        df.loc[i, 'OX'] = 'X'\n",
    "\n",
    "print(df['OX'].value_counts()/len(df))\n",
    "for i in range(len(df)):\n",
    "    if df['genre'][i] != df['predict'][i]:\n",
    "        print(df.iloc[i])"
   ],
   "metadata": {
    "collapsed": false,
    "pycharm": {
     "name": "#%%\n"
    }
   }
  },
  {
   "cell_type": "code",
   "execution_count": null,
   "outputs": [],
   "source": [
    "print(df.title[0])\n",
    "print(df.iloc[0])\n",
    "print(preds[0][np.argmax(preds[0])])\n",
    "print(label[np.argmax(preds[0])])"
   ],
   "metadata": {
    "collapsed": false,
    "pycharm": {
     "name": "#%%\n"
    }
   }
  },
  {
   "cell_type": "code",
   "execution_count": null,
   "outputs": [],
   "source": [],
   "metadata": {
    "collapsed": false,
    "pycharm": {
     "name": "#%%\n"
    }
   }
  },
  {
   "cell_type": "markdown",
   "source": [],
   "metadata": {
    "collapsed": false
   }
  }
 ],
 "metadata": {
  "kernelspec": {
   "display_name": "Python 3",
   "language": "python",
   "name": "python3"
  },
  "language_info": {
   "codemirror_mode": {
    "name": "ipython",
    "version": 2
   },
   "file_extension": ".py",
   "mimetype": "text/x-python",
   "name": "python",
   "nbconvert_exporter": "python",
   "pygments_lexer": "ipython2",
   "version": "2.7.6"
  }
 },
 "nbformat": 4,
 "nbformat_minor": 0
}