{
 "cells": [
  {
   "cell_type": "code",
   "execution_count": 2,
   "outputs": [],
   "source": [
    "import pandas as pd\n",
    "import glob"
   ],
   "metadata": {
    "collapsed": false,
    "pycharm": {
     "name": "#%%\n"
    }
   }
  },
  {
   "cell_type": "code",
   "execution_count": 28,
   "metadata": {
    "collapsed": true
   },
   "outputs": [
    {
     "name": "stdout",
     "output_type": "stream",
     "text": [
      "['./data2\\\\ballade.csv', './data2\\\\dance.csv', './data2\\\\fork.csv', './data2\\\\indie.csv', './data2\\\\R amp B Soul .csv', './data2\\\\rap .csv', './data2\\\\Rock_metal.csv', './data2\\\\Trot.csv']\n",
      "<class 'pandas.core.frame.DataFrame'>\n",
      "RangeIndex: 8487 entries, 0 to 8486\n",
      "Data columns (total 6 columns):\n",
      " #   Column        Non-Null Count  Dtype  \n",
      "---  ------        --------------  -----  \n",
      " 0   title         7494 non-null   object \n",
      " 1   artist        8487 non-null   object \n",
      " 2   genre         8487 non-null   object \n",
      " 3   lyric         8487 non-null   object \n",
      " 4   Unnamed: 0.1  1867 non-null   float64\n",
      " 5   Unnamed: 0    992 non-null    float64\n",
      "dtypes: float64(2), object(4)\n",
      "memory usage: 398.0+ KB\n"
     ]
    },
    {
     "data": {
      "text/plain": "                                         title                   artist genre  \\\n0                            horizon                              박현광      댄스   \n1                       Starry Night                     NATURE  네이처       댄스   \n2                              우리                          수인  Swuin       댄스   \n3                             겨울 헌팅송                         my  삼마이       댄스   \n4                           BIG LiPS                              양준일      댄스   \n...                                        ...                      ...   ...   \n8482                       바람아 말해 줄래                     굿맨  Goodman      발라드   \n8483                        대낮에 한 이별             선예  span    span 임슬옹     발라드   \n8484    내 생각을 들려주지 않을 거예요  with 이예린                         겸  GYE M      발라드   \n8485                              중독                             남궁진영     발라드   \n8486                    다시 오지 않을 그 밤                        안솔희 블루베리      발라드   \n\n                                                  lyric  Unnamed: 0.1  \\\n0     날고 싶던 그날에 날 수 없단 걸 알았어 구름을 가르며 나는 새를 부러워만 했었어 ...           NaN   \n1     Oh starry night 우릴 위한 이 밤 별빛은 너를 더 빛나게 해 Oh st...           NaN   \n2     Long time no see 다들 잘 지내 반가워 사실은 우리 그렇게 친한 사이는...           NaN   \n3     드디어 찾아온 겨울 우리들의 스키장 저기좀 봐 그녀를 봐 여름 바닷가에서 봤어나 나...           NaN   \n4     What 봐라 왔냐 니 bye 완전 반응이 big 와 봐라 반응이 bye Gathe...           NaN   \n...                                                 ...           ...   \n8482  흘러 가는 저 구름아 어디로 가나 가다 가다 내 님 보며는 외로운 이 마음 쓸쓸한 ...         987.0   \n8483  마지막 인사를 주고받고 엉엉 울면서 서로를 한 번 꽉 안아 보고서 잘해준 게 하나도...         988.0   \n8484  내 생각을 들려주지 않을 거예요 내 마음도 보여주지 않을 거예요 어차피 난 어차피 ...         989.0   \n8485  밤이 되면 올까 자꾸 널 찾아 아마 너에게 중독된 것 같아 이 밤이 지나면 올까 계...         990.0   \n8486  오늘밤도 내 곁에서 머물러요 오늘밤은 내게서 멀어지지 말아요 또 기다려요 그대와 있...         991.0   \n\n      Unnamed: 0  \n0            NaN  \n1            NaN  \n2            NaN  \n3            NaN  \n4            NaN  \n...          ...  \n8482       987.0  \n8483       988.0  \n8484       989.0  \n8485       990.0  \n8486       991.0  \n\n[8487 rows x 6 columns]",
      "text/html": "<div>\n<style scoped>\n    .dataframe tbody tr th:only-of-type {\n        vertical-align: middle;\n    }\n\n    .dataframe tbody tr th {\n        vertical-align: top;\n    }\n\n    .dataframe thead th {\n        text-align: right;\n    }\n</style>\n<table border=\"1\" class=\"dataframe\">\n  <thead>\n    <tr style=\"text-align: right;\">\n      <th></th>\n      <th>title</th>\n      <th>artist</th>\n      <th>genre</th>\n      <th>lyric</th>\n      <th>Unnamed: 0.1</th>\n      <th>Unnamed: 0</th>\n    </tr>\n  </thead>\n  <tbody>\n    <tr>\n      <th>0</th>\n      <td>horizon</td>\n      <td>박현광</td>\n      <td>댄스</td>\n      <td>날고 싶던 그날에 날 수 없단 걸 알았어 구름을 가르며 나는 새를 부러워만 했었어 ...</td>\n      <td>NaN</td>\n      <td>NaN</td>\n    </tr>\n    <tr>\n      <th>1</th>\n      <td>Starry Night</td>\n      <td>NATURE  네이처</td>\n      <td>댄스</td>\n      <td>Oh starry night 우릴 위한 이 밤 별빛은 너를 더 빛나게 해 Oh st...</td>\n      <td>NaN</td>\n      <td>NaN</td>\n    </tr>\n    <tr>\n      <th>2</th>\n      <td>우리</td>\n      <td>수인  Swuin</td>\n      <td>댄스</td>\n      <td>Long time no see 다들 잘 지내 반가워 사실은 우리 그렇게 친한 사이는...</td>\n      <td>NaN</td>\n      <td>NaN</td>\n    </tr>\n    <tr>\n      <th>3</th>\n      <td>겨울 헌팅송</td>\n      <td>my  삼마이</td>\n      <td>댄스</td>\n      <td>드디어 찾아온 겨울 우리들의 스키장 저기좀 봐 그녀를 봐 여름 바닷가에서 봤어나 나...</td>\n      <td>NaN</td>\n      <td>NaN</td>\n    </tr>\n    <tr>\n      <th>4</th>\n      <td>BIG LiPS</td>\n      <td>양준일</td>\n      <td>댄스</td>\n      <td>What 봐라 왔냐 니 bye 완전 반응이 big 와 봐라 반응이 bye Gathe...</td>\n      <td>NaN</td>\n      <td>NaN</td>\n    </tr>\n    <tr>\n      <th>...</th>\n      <td>...</td>\n      <td>...</td>\n      <td>...</td>\n      <td>...</td>\n      <td>...</td>\n      <td>...</td>\n    </tr>\n    <tr>\n      <th>8482</th>\n      <td>바람아 말해 줄래</td>\n      <td>굿맨  Goodman</td>\n      <td>발라드</td>\n      <td>흘러 가는 저 구름아 어디로 가나 가다 가다 내 님 보며는 외로운 이 마음 쓸쓸한 ...</td>\n      <td>987.0</td>\n      <td>987.0</td>\n    </tr>\n    <tr>\n      <th>8483</th>\n      <td>대낮에 한 이별</td>\n      <td>선예  span    span 임슬옹</td>\n      <td>발라드</td>\n      <td>마지막 인사를 주고받고 엉엉 울면서 서로를 한 번 꽉 안아 보고서 잘해준 게 하나도...</td>\n      <td>988.0</td>\n      <td>988.0</td>\n    </tr>\n    <tr>\n      <th>8484</th>\n      <td>내 생각을 들려주지 않을 거예요  with 이예린</td>\n      <td>겸  GYE M</td>\n      <td>발라드</td>\n      <td>내 생각을 들려주지 않을 거예요 내 마음도 보여주지 않을 거예요 어차피 난 어차피 ...</td>\n      <td>989.0</td>\n      <td>989.0</td>\n    </tr>\n    <tr>\n      <th>8485</th>\n      <td>중독</td>\n      <td>남궁진영</td>\n      <td>발라드</td>\n      <td>밤이 되면 올까 자꾸 널 찾아 아마 너에게 중독된 것 같아 이 밤이 지나면 올까 계...</td>\n      <td>990.0</td>\n      <td>990.0</td>\n    </tr>\n    <tr>\n      <th>8486</th>\n      <td>다시 오지 않을 그 밤</td>\n      <td>안솔희 블루베리</td>\n      <td>발라드</td>\n      <td>오늘밤도 내 곁에서 머물러요 오늘밤은 내게서 멀어지지 말아요 또 기다려요 그대와 있...</td>\n      <td>991.0</td>\n      <td>991.0</td>\n    </tr>\n  </tbody>\n</table>\n<p>8487 rows × 6 columns</p>\n</div>"
     },
     "execution_count": 28,
     "metadata": {},
     "output_type": "execute_result"
    }
   ],
   "source": [
    "data_paths = glob.glob('./data2/*')\n",
    "print(data_paths)\n",
    "df = pd.DataFrame()\n",
    "for path in data_paths[1:]:\n",
    "    df_temp = pd.read_csv(path, index_col=0)\n",
    "    df = pd.concat([df, df_temp], ignore_index=True,\n",
    "              axis='rows')\n",
    "df_temp = pd.read_csv(data_paths[0])\n",
    "df = pd.concat([df, df_temp], ignore_index=True,\n",
    "              axis='rows')\n",
    "df.info()\n",
    "df\n",
    "# df.to_csv('./data/musicdata.csv',encoding=\"utf-8-sig\",\n",
    "#           index=False)"
   ]
  },
  {
   "cell_type": "code",
   "execution_count": 37,
   "outputs": [],
   "source": [
    "df= df[[\"title\",\"artist\",\"genre\",\"lyric\"]]\n",
    "df =df.drop_duplicates()\n",
    "df.to_csv('./data2/music_data.csv',encoding='utf-8-sig')"
   ],
   "metadata": {
    "collapsed": false,
    "pycharm": {
     "name": "#%%\n"
    }
   }
  },
  {
   "cell_type": "code",
   "execution_count": 24,
   "outputs": [],
   "source": [
    "df['genre'] =df['genre'].str.strip()"
   ],
   "metadata": {
    "collapsed": false,
    "pycharm": {
     "name": "#%%\n"
    }
   }
  },
  {
   "cell_type": "code",
   "execution_count": 30,
   "outputs": [
    {
     "name": "stdout",
     "output_type": "stream",
     "text": [
      "발라드             2121\n",
      "R amp B Soul    1244\n",
      "랩 힙합            1197\n",
      "포크 블루스          1121\n",
      "록 메탈            1106\n",
      "댄스              1041\n",
      "성인가요 트로트         614\n",
      "일렉트로니카            31\n",
      "발라드  록 메탈         12\n",
      "Name: genre, dtype: int64\n"
     ]
    }
   ],
   "source": [
    "print(df['genre'].value_counts())|"
   ],
   "metadata": {
    "collapsed": false,
    "pycharm": {
     "name": "#%%\n"
    }
   }
  },
  {
   "cell_type": "code",
   "execution_count": 31,
   "outputs": [
    {
     "name": "stdout",
     "output_type": "stream",
     "text": [
      "발라드             2121\n",
      "R amp B Soul    1244\n",
      "랩 힙합            1197\n",
      "포크 블루스          1121\n",
      "록 메탈            1106\n",
      "댄스              1041\n",
      "성인가요 트로트         614\n",
      "                  31\n",
      "발라드  록 메탈         12\n",
      "Name: genre, dtype: int64\n"
     ]
    }
   ],
   "source": [
    "df.replace('인디음악', '', regex=True, inplace=True)\n",
    "df.replace('국내드라마', '', regex=True, inplace=True)\n",
    "df.replace('애니메이션 웹툰', '', regex=True, inplace=True)\n",
    "df.replace('게임', '', regex=True, inplace=True)\n",
    "df.replace('국내영화', '', regex=True, inplace=True)\n",
    "df.replace('국외영화', '', regex=True, inplace=True)\n",
    "df.replace('만화', '', regex=True, inplace=True)\n",
    "df.replace('국외영화', '', regex=True, inplace=True)\n",
    "df.replace('일렉트로니카', '', regex=True, inplace=True)\n",
    "df.replace('키즈', '', regex=True, inplace=True)\n",
    "\n",
    "df['genre'] =df['genre'].str.strip()\n",
    "print(df['genre'].value_counts())\n"
   ],
   "metadata": {
    "collapsed": false,
    "pycharm": {
     "name": "#%%\n"
    }
   }
  },
  {
   "cell_type": "markdown",
   "source": [],
   "metadata": {
    "collapsed": false
   }
  },
  {
   "cell_type": "code",
   "execution_count": 27,
   "outputs": [],
   "source": [
    "df.to_csv('./data2/rap .csv',encoding='utf-8-sig')"
   ],
   "metadata": {
    "collapsed": false,
    "pycharm": {
     "name": "#%%\n"
    }
   }
  },
  {
   "cell_type": "code",
   "execution_count": 39,
   "outputs": [
    {
     "data": {
      "text/plain": "                                         title                   artist genre  \\\n0                            horizon                              박현광      댄스   \n1                       Starry Night                     NATURE  네이처       댄스   \n2                              우리                          수인  Swuin       댄스   \n3                             겨울 헌팅송                         my  삼마이       댄스   \n4                           BIG LiPS                              양준일      댄스   \n...                                        ...                      ...   ...   \n7307                       바람아 말해 줄래                     굿맨  Goodman      발라드   \n7308                        대낮에 한 이별             선예  span    span 임슬옹     발라드   \n7309    내 생각을 들려주지 않을 거예요  with 이예린                         겸  GYE M      발라드   \n7310                              중독                             남궁진영     발라드   \n7311                    다시 오지 않을 그 밤                        안솔희 블루베리      발라드   \n\n                                                  lyric  \n0     날고 싶던 그날에 날 수 없단 걸 알았어 구름을 가르며 나는 새를 부러워만 했었어 ...  \n1     Oh starry night 우릴 위한 이 밤 별빛은 너를 더 빛나게 해 Oh st...  \n2     Long time no see 다들 잘 지내 반가워 사실은 우리 그렇게 친한 사이는...  \n3     드디어 찾아온 겨울 우리들의 스키장 저기좀 봐 그녀를 봐 여름 바닷가에서 봤어나 나...  \n4     What 봐라 왔냐 니 bye 완전 반응이 big 와 봐라 반응이 bye Gathe...  \n...                                                 ...  \n7307  흘러 가는 저 구름아 어디로 가나 가다 가다 내 님 보며는 외로운 이 마음 쓸쓸한 ...  \n7308  마지막 인사를 주고받고 엉엉 울면서 서로를 한 번 꽉 안아 보고서 잘해준 게 하나도...  \n7309  내 생각을 들려주지 않을 거예요 내 마음도 보여주지 않을 거예요 어차피 난 어차피 ...  \n7310  밤이 되면 올까 자꾸 널 찾아 아마 너에게 중독된 것 같아 이 밤이 지나면 올까 계...  \n7311  오늘밤도 내 곁에서 머물러요 오늘밤은 내게서 멀어지지 말아요 또 기다려요 그대와 있...  \n\n[7312 rows x 4 columns]",
      "text/html": "<div>\n<style scoped>\n    .dataframe tbody tr th:only-of-type {\n        vertical-align: middle;\n    }\n\n    .dataframe tbody tr th {\n        vertical-align: top;\n    }\n\n    .dataframe thead th {\n        text-align: right;\n    }\n</style>\n<table border=\"1\" class=\"dataframe\">\n  <thead>\n    <tr style=\"text-align: right;\">\n      <th></th>\n      <th>title</th>\n      <th>artist</th>\n      <th>genre</th>\n      <th>lyric</th>\n    </tr>\n  </thead>\n  <tbody>\n    <tr>\n      <th>0</th>\n      <td>horizon</td>\n      <td>박현광</td>\n      <td>댄스</td>\n      <td>날고 싶던 그날에 날 수 없단 걸 알았어 구름을 가르며 나는 새를 부러워만 했었어 ...</td>\n    </tr>\n    <tr>\n      <th>1</th>\n      <td>Starry Night</td>\n      <td>NATURE  네이처</td>\n      <td>댄스</td>\n      <td>Oh starry night 우릴 위한 이 밤 별빛은 너를 더 빛나게 해 Oh st...</td>\n    </tr>\n    <tr>\n      <th>2</th>\n      <td>우리</td>\n      <td>수인  Swuin</td>\n      <td>댄스</td>\n      <td>Long time no see 다들 잘 지내 반가워 사실은 우리 그렇게 친한 사이는...</td>\n    </tr>\n    <tr>\n      <th>3</th>\n      <td>겨울 헌팅송</td>\n      <td>my  삼마이</td>\n      <td>댄스</td>\n      <td>드디어 찾아온 겨울 우리들의 스키장 저기좀 봐 그녀를 봐 여름 바닷가에서 봤어나 나...</td>\n    </tr>\n    <tr>\n      <th>4</th>\n      <td>BIG LiPS</td>\n      <td>양준일</td>\n      <td>댄스</td>\n      <td>What 봐라 왔냐 니 bye 완전 반응이 big 와 봐라 반응이 bye Gathe...</td>\n    </tr>\n    <tr>\n      <th>...</th>\n      <td>...</td>\n      <td>...</td>\n      <td>...</td>\n      <td>...</td>\n    </tr>\n    <tr>\n      <th>7307</th>\n      <td>바람아 말해 줄래</td>\n      <td>굿맨  Goodman</td>\n      <td>발라드</td>\n      <td>흘러 가는 저 구름아 어디로 가나 가다 가다 내 님 보며는 외로운 이 마음 쓸쓸한 ...</td>\n    </tr>\n    <tr>\n      <th>7308</th>\n      <td>대낮에 한 이별</td>\n      <td>선예  span    span 임슬옹</td>\n      <td>발라드</td>\n      <td>마지막 인사를 주고받고 엉엉 울면서 서로를 한 번 꽉 안아 보고서 잘해준 게 하나도...</td>\n    </tr>\n    <tr>\n      <th>7309</th>\n      <td>내 생각을 들려주지 않을 거예요  with 이예린</td>\n      <td>겸  GYE M</td>\n      <td>발라드</td>\n      <td>내 생각을 들려주지 않을 거예요 내 마음도 보여주지 않을 거예요 어차피 난 어차피 ...</td>\n    </tr>\n    <tr>\n      <th>7310</th>\n      <td>중독</td>\n      <td>남궁진영</td>\n      <td>발라드</td>\n      <td>밤이 되면 올까 자꾸 널 찾아 아마 너에게 중독된 것 같아 이 밤이 지나면 올까 계...</td>\n    </tr>\n    <tr>\n      <th>7311</th>\n      <td>다시 오지 않을 그 밤</td>\n      <td>안솔희 블루베리</td>\n      <td>발라드</td>\n      <td>오늘밤도 내 곁에서 머물러요 오늘밤은 내게서 멀어지지 말아요 또 기다려요 그대와 있...</td>\n    </tr>\n  </tbody>\n</table>\n<p>7312 rows × 4 columns</p>\n</div>"
     },
     "execution_count": 39,
     "metadata": {},
     "output_type": "execute_result"
    }
   ],
   "source": [
    "df = pd.read_csv('./data2/music_data.csv')\n",
    "df"
   ],
   "metadata": {
    "collapsed": false,
    "pycharm": {
     "name": "#%%\n"
    }
   }
  },
  {
   "cell_type": "code",
   "execution_count": 40,
   "outputs": [
    {
     "name": "stdout",
     "output_type": "stream",
     "text": [
      "<class 'pandas.core.frame.DataFrame'>\n",
      "RangeIndex: 7312 entries, 0 to 7311\n",
      "Data columns (total 4 columns):\n",
      " #   Column  Non-Null Count  Dtype \n",
      "---  ------  --------------  ----- \n",
      " 0   title   6370 non-null   object\n",
      " 1   artist  7312 non-null   object\n",
      " 2   genre   7281 non-null   object\n",
      " 3   lyric   7312 non-null   object\n",
      "dtypes: object(4)\n",
      "memory usage: 228.6+ KB\n"
     ]
    }
   ],
   "source": [
    "df.info()"
   ],
   "metadata": {
    "collapsed": false,
    "pycharm": {
     "name": "#%%\n"
    }
   }
  },
  {
   "cell_type": "code",
   "execution_count": 42,
   "outputs": [],
   "source": [
    "df = df.dropna(axis=0)"
   ],
   "metadata": {
    "collapsed": false,
    "pycharm": {
     "name": "#%%\n"
    }
   }
  },
  {
   "cell_type": "code",
   "execution_count": 43,
   "outputs": [
    {
     "name": "stdout",
     "output_type": "stream",
     "text": [
      "포크 블루스          1028\n",
      "발라드              985\n",
      "댄스               981\n",
      "R amp B Soul     973\n",
      "록 메탈             946\n",
      "랩 힙합             808\n",
      "성인가요 트로트         614\n",
      "발라드  록 메탈          4\n",
      "Name: genre, dtype: int64\n"
     ]
    }
   ],
   "source": [
    "print(df['genre'].value_counts())"
   ],
   "metadata": {
    "collapsed": false,
    "pycharm": {
     "name": "#%%\n"
    }
   }
  },
  {
   "cell_type": "code",
   "execution_count": 46,
   "outputs": [],
   "source": [
    "df.to_csv('./data2/music_data.csv',encoding='utf-8-sig')"
   ],
   "metadata": {
    "collapsed": false,
    "pycharm": {
     "name": "#%%\n"
    }
   }
  },
  {
   "cell_type": "code",
   "execution_count": null,
   "outputs": [],
   "source": [],
   "metadata": {
    "collapsed": false,
    "pycharm": {
     "name": "#%%\n"
    }
   }
  }
 ],
 "metadata": {
  "kernelspec": {
   "display_name": "Python 3",
   "language": "python",
   "name": "python3"
  },
  "language_info": {
   "codemirror_mode": {
    "name": "ipython",
    "version": 2
   },
   "file_extension": ".py",
   "mimetype": "text/x-python",
   "name": "python",
   "nbconvert_exporter": "python",
   "pygments_lexer": "ipython2",
   "version": "2.7.6"
  }
 },
 "nbformat": 4,
 "nbformat_minor": 0
}